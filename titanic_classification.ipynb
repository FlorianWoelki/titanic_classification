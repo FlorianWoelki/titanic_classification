{
  "nbformat": 4,
  "nbformat_minor": 0,
  "metadata": {
    "colab": {
      "name": "titanic_classification.ipynb",
      "version": "0.3.2",
      "provenance": [],
      "collapsed_sections": [],
      "include_colab_link": true
    },
    "kernelspec": {
      "name": "python3",
      "display_name": "Python 3"
    },
    "accelerator": "GPU"
  },
  "cells": [
    {
      "cell_type": "markdown",
      "metadata": {
        "id": "view-in-github",
        "colab_type": "text"
      },
      "source": [
        "<a href=\"https://colab.research.google.com/github/FlorianWoelki/titanic_classification/blob/master/titanic_classification.ipynb\" target=\"_parent\"><img src=\"https://colab.research.google.com/assets/colab-badge.svg\" alt=\"Open In Colab\"/></a>"
      ]
    },
    {
      "cell_type": "markdown",
      "metadata": {
        "id": "oJCEuiT7-UFg",
        "colab_type": "text"
      },
      "source": [
        "## Download the dataset\n",
        "\n",
        "Click this [link](https://www.kaggle.com/c/titanic/overview) to go to the kaggle titanic dataset."
      ]
    },
    {
      "cell_type": "markdown",
      "metadata": {
        "id": "oDDm4UrzR7tX",
        "colab_type": "text"
      },
      "source": [
        "First of all, we need to download the dataset. For that we will use the google colab helper function to upload files. In this case, we will upload the kaggle json file with the key inside."
      ]
    },
    {
      "cell_type": "code",
      "metadata": {
        "id": "6rmIjyk2-fcQ",
        "colab_type": "code",
        "colab": {}
      },
      "source": [
        "from google.colab import files\n",
        "files.upload()"
      ],
      "execution_count": 0,
      "outputs": []
    },
    {
      "cell_type": "markdown",
      "metadata": {
        "id": "QtWiDQ55SLJZ",
        "colab_type": "text"
      },
      "source": [
        "If we uploaded the file correctly, we can move the file into a new .kaggle folder. This will be useful for the kaggle cli."
      ]
    },
    {
      "cell_type": "code",
      "metadata": {
        "id": "ywDbh_OA_Shf",
        "colab_type": "code",
        "colab": {}
      },
      "source": [
        "!mkdir -p ~/.kaggle\n",
        "!cp kaggle.json ~/.kaggle/\n",
        "!chmod 600 /root/.kaggle/kaggle.json"
      ],
      "execution_count": 0,
      "outputs": []
    },
    {
      "cell_type": "markdown",
      "metadata": {
        "id": "LHRuP7KCSWRj",
        "colab_type": "text"
      },
      "source": [
        "Now, we will download the dataset by using the kaggle cli."
      ]
    },
    {
      "cell_type": "code",
      "metadata": {
        "id": "33eTHFEc_bjN",
        "colab_type": "code",
        "outputId": "88b17fdc-9037-4b79-cb5f-7ce9e9cb652d",
        "colab": {
          "base_uri": "https://localhost:8080/",
          "height": 204
        }
      },
      "source": [
        "!kaggle competitions download -c titanic\n",
        "!ls"
      ],
      "execution_count": 3,
      "outputs": [
        {
          "output_type": "stream",
          "text": [
            "Downloading train.csv to /content\n",
            "\r  0% 0.00/59.8k [00:00<?, ?B/s]\n",
            "100% 59.8k/59.8k [00:00<00:00, 49.3MB/s]\n",
            "Downloading test.csv to /content\n",
            "  0% 0.00/28.0k [00:00<?, ?B/s]\n",
            "100% 28.0k/28.0k [00:00<00:00, 28.2MB/s]\n",
            "Downloading gender_submission.csv to /content\n",
            "  0% 0.00/3.18k [00:00<?, ?B/s]\n",
            "100% 3.18k/3.18k [00:00<00:00, 3.16MB/s]\n",
            " gender_submission.csv\t kaggle.json   test.csv\n",
            "'kaggle (1).json'\t sample_data   train.csv\n"
          ],
          "name": "stdout"
        }
      ]
    },
    {
      "cell_type": "markdown",
      "metadata": {
        "id": "iowDMIqjAEdB",
        "colab_type": "text"
      },
      "source": [
        "## Check the data\n",
        "\n",
        "In this section we will explore the data.\n",
        "\n",
        "> The following table explains the data.\n",
        "\n",
        "| Variable | Definition                                 | Key                                            |\n",
        "|----------|--------------------------------------------|------------------------------------------------|\n",
        "| survival | Survival                                   | 0 = No, 1 = Yes                                |\n",
        "| pclass   | Ticket Class                               | 1 = 1st, 2 = 2nd, 3 = 3rd                      |\n",
        "| sex      | Sex                                        |                                                |\n",
        "| Age      | Age in years                               |                                                |\n",
        "| sibsp    | # of siblings / spouses aboard the titanic |                                                |\n",
        "| parch    | # of parents / children aboard the titanic |                                                |\n",
        "| ticket   | Ticket number                              |                                                |\n",
        "| fare     | Passenger fare                             |                                                |\n",
        "| cabin    | Cabin number                               |                                                |\n",
        "| embarked | Port of embarkation                        | C = Cherbourg, Q = Queenstown, S = Southampton |"
      ]
    },
    {
      "cell_type": "markdown",
      "metadata": {
        "id": "ZSEnSoVcTYhf",
        "colab_type": "text"
      },
      "source": [
        "We will import pandas to import the .csv file and matplotlib to plot the data."
      ]
    },
    {
      "cell_type": "code",
      "metadata": {
        "id": "iqtpSFi3AFn5",
        "colab_type": "code",
        "colab": {}
      },
      "source": [
        "import pandas as pd\n",
        "import matplotlib.pyplot as plt"
      ],
      "execution_count": 0,
      "outputs": []
    },
    {
      "cell_type": "markdown",
      "metadata": {
        "id": "Wy9c8LMwTdx4",
        "colab_type": "text"
      },
      "source": [
        "Then we will import the .csv file and save it as a dataframe for exploring the data.\n",
        "\n",
        "After that we will print out the head part of our data."
      ]
    },
    {
      "cell_type": "code",
      "metadata": {
        "id": "hZ89KwnPAHEb",
        "colab_type": "code",
        "outputId": "434290ad-2000-406b-93c5-9a2280eb14c9",
        "colab": {
          "base_uri": "https://localhost:8080/",
          "height": 204
        }
      },
      "source": [
        "df = pd.read_csv('train.csv')\n",
        "df.head()"
      ],
      "execution_count": 5,
      "outputs": [
        {
          "output_type": "execute_result",
          "data": {
            "text/html": [
              "<div>\n",
              "<style scoped>\n",
              "    .dataframe tbody tr th:only-of-type {\n",
              "        vertical-align: middle;\n",
              "    }\n",
              "\n",
              "    .dataframe tbody tr th {\n",
              "        vertical-align: top;\n",
              "    }\n",
              "\n",
              "    .dataframe thead th {\n",
              "        text-align: right;\n",
              "    }\n",
              "</style>\n",
              "<table border=\"1\" class=\"dataframe\">\n",
              "  <thead>\n",
              "    <tr style=\"text-align: right;\">\n",
              "      <th></th>\n",
              "      <th>PassengerId</th>\n",
              "      <th>Survived</th>\n",
              "      <th>Pclass</th>\n",
              "      <th>Name</th>\n",
              "      <th>Sex</th>\n",
              "      <th>Age</th>\n",
              "      <th>SibSp</th>\n",
              "      <th>Parch</th>\n",
              "      <th>Ticket</th>\n",
              "      <th>Fare</th>\n",
              "      <th>Cabin</th>\n",
              "      <th>Embarked</th>\n",
              "    </tr>\n",
              "  </thead>\n",
              "  <tbody>\n",
              "    <tr>\n",
              "      <th>0</th>\n",
              "      <td>1</td>\n",
              "      <td>0</td>\n",
              "      <td>3</td>\n",
              "      <td>Braund, Mr. Owen Harris</td>\n",
              "      <td>male</td>\n",
              "      <td>22.0</td>\n",
              "      <td>1</td>\n",
              "      <td>0</td>\n",
              "      <td>A/5 21171</td>\n",
              "      <td>7.2500</td>\n",
              "      <td>NaN</td>\n",
              "      <td>S</td>\n",
              "    </tr>\n",
              "    <tr>\n",
              "      <th>1</th>\n",
              "      <td>2</td>\n",
              "      <td>1</td>\n",
              "      <td>1</td>\n",
              "      <td>Cumings, Mrs. John Bradley (Florence Briggs Th...</td>\n",
              "      <td>female</td>\n",
              "      <td>38.0</td>\n",
              "      <td>1</td>\n",
              "      <td>0</td>\n",
              "      <td>PC 17599</td>\n",
              "      <td>71.2833</td>\n",
              "      <td>C85</td>\n",
              "      <td>C</td>\n",
              "    </tr>\n",
              "    <tr>\n",
              "      <th>2</th>\n",
              "      <td>3</td>\n",
              "      <td>1</td>\n",
              "      <td>3</td>\n",
              "      <td>Heikkinen, Miss. Laina</td>\n",
              "      <td>female</td>\n",
              "      <td>26.0</td>\n",
              "      <td>0</td>\n",
              "      <td>0</td>\n",
              "      <td>STON/O2. 3101282</td>\n",
              "      <td>7.9250</td>\n",
              "      <td>NaN</td>\n",
              "      <td>S</td>\n",
              "    </tr>\n",
              "    <tr>\n",
              "      <th>3</th>\n",
              "      <td>4</td>\n",
              "      <td>1</td>\n",
              "      <td>1</td>\n",
              "      <td>Futrelle, Mrs. Jacques Heath (Lily May Peel)</td>\n",
              "      <td>female</td>\n",
              "      <td>35.0</td>\n",
              "      <td>1</td>\n",
              "      <td>0</td>\n",
              "      <td>113803</td>\n",
              "      <td>53.1000</td>\n",
              "      <td>C123</td>\n",
              "      <td>S</td>\n",
              "    </tr>\n",
              "    <tr>\n",
              "      <th>4</th>\n",
              "      <td>5</td>\n",
              "      <td>0</td>\n",
              "      <td>3</td>\n",
              "      <td>Allen, Mr. William Henry</td>\n",
              "      <td>male</td>\n",
              "      <td>35.0</td>\n",
              "      <td>0</td>\n",
              "      <td>0</td>\n",
              "      <td>373450</td>\n",
              "      <td>8.0500</td>\n",
              "      <td>NaN</td>\n",
              "      <td>S</td>\n",
              "    </tr>\n",
              "  </tbody>\n",
              "</table>\n",
              "</div>"
            ],
            "text/plain": [
              "   PassengerId  Survived  Pclass  ...     Fare Cabin  Embarked\n",
              "0            1         0       3  ...   7.2500   NaN         S\n",
              "1            2         1       1  ...  71.2833   C85         C\n",
              "2            3         1       3  ...   7.9250   NaN         S\n",
              "3            4         1       1  ...  53.1000  C123         S\n",
              "4            5         0       3  ...   8.0500   NaN         S\n",
              "\n",
              "[5 rows x 12 columns]"
            ]
          },
          "metadata": {
            "tags": []
          },
          "execution_count": 5
        }
      ]
    },
    {
      "cell_type": "markdown",
      "metadata": {
        "id": "-I5y7ftFTkxO",
        "colab_type": "text"
      },
      "source": [
        "I am now interested in the data of the survived people and the people, who not survived this crisis.\n",
        "\n",
        "First I will plot the percentage of how many people survived and not in a bar chart.\n",
        "\n",
        "Then I will plot the age by the survived percentage. Basically the age of people, who survived and the age of people who did not survive. For this I will use a scatter plot.\n",
        "\n",
        "Furthermore, I was interested by seeing the passenger class. So, how many people in percent were in class 3, 2 and 1.\n",
        "\n",
        "For the fourth plot, I plotted a kde, to see the passenger class with the age of the person."
      ]
    },
    {
      "cell_type": "code",
      "metadata": {
        "id": "LWMfiiMVJ7wJ",
        "colab_type": "code",
        "outputId": "c5dcb676-bec0-496b-894e-b0f75a59c651",
        "colab": {
          "base_uri": "https://localhost:8080/",
          "height": 390
        }
      },
      "source": [
        "fig = plt.figure(figsize=(18, 6))\n",
        "\n",
        "plt.subplot2grid((2, 3), (0, 0))\n",
        "df.Survived.value_counts(normalize=True).plot(kind='bar', alpha=0.5)\n",
        "plt.title('Survived')\n",
        "\n",
        "plt.subplot2grid((2, 3), (0, 1))\n",
        "plt.scatter(df.Survived, df.Age, alpha=0.1)\n",
        "plt.title('Age wrt survived')\n",
        "\n",
        "plt.subplot2grid((2, 3), (0, 2))\n",
        "df.Pclass.value_counts(normalize=True).plot(kind='bar', alpha=0.5)\n",
        "plt.title('Pclass')\n",
        "\n",
        "plt.subplot2grid((2, 3), (1, 0), colspan=2)\n",
        "for x in [1, 2, 3]:\n",
        "  df.Age[df.Pclass == x].plot(kind='kde')\n",
        "plt.title('Class wrt Age')\n",
        "plt.legend(('1st', '2nd', '3rd'))\n",
        "\n",
        "plt.show()"
      ],
      "execution_count": 6,
      "outputs": [
        {
          "output_type": "display_data",
          "data": {
            "image/png": "[encoded data removed]",
            "text/plain": [
              "<Figure size 1296x432 with 4 Axes>"
            ]
          },
          "metadata": {
            "tags": []
          }
        }
      ]
    },
    {
      "cell_type": "markdown",
      "metadata": {
        "id": "csqdV8xGUelc",
        "colab_type": "text"
      },
      "source": [
        "I was also interested, on the survived sex percentage. \n",
        "\n",
        "We can see with these plots, that woman were more valuable than mens. So a lot of woman survived."
      ]
    },
    {
      "cell_type": "code",
      "metadata": {
        "id": "e8ORxtZOMFwR",
        "colab_type": "code",
        "outputId": "d500500e-a023-4e02-d46d-2359384322a8",
        "colab": {
          "base_uri": "https://localhost:8080/",
          "height": 184
        }
      },
      "source": [
        "fig = plt.figure(figsize=(18, 6))\n",
        "\n",
        "female_color = '#FA0000'\n",
        "\n",
        "plt.subplot2grid((3, 4), (0, 0))\n",
        "df.Survived[df.Sex == 'male'].value_counts(normalize=True).plot(kind='bar', alpha=0.5)\n",
        "plt.title('Men Survived')\n",
        "\n",
        "plt.subplot2grid((3, 4), (0, 1))\n",
        "df.Survived[df.Sex == 'female'].value_counts(normalize=True).plot(kind='bar', alpha=0.5, color=female_color)\n",
        "plt.title('Woman Survived')\n",
        "\n",
        "plt.subplot2grid((3, 4), (0, 2))\n",
        "df.Sex[df.Survived == 1].value_counts(normalize=True).plot(kind='bar', alpha=0.5, color=[female_color, 'b'])\n",
        "plt.title('Sex of Survived')\n",
        "\n",
        "plt.show()"
      ],
      "execution_count": 7,
      "outputs": [
        {
          "output_type": "display_data",
          "data": {
            "image/png": "[encoded data removed]",
            "text/plain": [
              "<Figure size 1296x432 with 3 Axes>"
            ]
          },
          "metadata": {
            "tags": []
          }
        }
      ]
    },
    {
      "cell_type": "markdown",
      "metadata": {
        "id": "JQryVmPPN47G",
        "colab_type": "text"
      },
      "source": [
        "## Normalize the data\n",
        "\n",
        "In this section I will normalize the data, so the deep learning model has a better time and can understand every single column."
      ]
    },
    {
      "cell_type": "code",
      "metadata": {
        "id": "sj0MgPJtN68R",
        "colab_type": "code",
        "colab": {}
      },
      "source": [
        "def normalize_data(data):\n",
        "  data['Fare'] = data['Fare'].fillna(data['Fare'].dropna().median())\n",
        "  data['Age'] = data['Age'].fillna(data['Age'].dropna().median())\n",
        "  \n",
        "  data.loc[data['Sex'] == 'male', 'Sex'] = 0\n",
        "  data.loc[data['Sex'] == 'female', 'Sex'] = 1\n",
        "  \n",
        "  data['Embarked'] = data['Embarked'].fillna('S')\n",
        "  data.loc[data['Embarked'] == 'S', 'Embarked'] = 0\n",
        "  data.loc[data['Embarked'] == 'C', 'Embarked'] = 1\n",
        "  data.loc[data['Embarked'] == 'Q', 'Embarked'] = 2"
      ],
      "execution_count": 0,
      "outputs": []
    },
    {
      "cell_type": "code",
      "metadata": {
        "id": "wMUdTcSvOlSY",
        "colab_type": "code",
        "colab": {}
      },
      "source": [
        "train = df\n",
        "normalize_data(train)"
      ],
      "execution_count": 0,
      "outputs": []
    },
    {
      "cell_type": "markdown",
      "metadata": {
        "id": "iORHNEcMHOkE",
        "colab_type": "text"
      },
      "source": [
        "## Building and training the model\n",
        "\n",
        "In this section I will build and train the model with tensorflow.\n",
        "\n",
        "We will use a densed neural network with 7 input neurons and 1 output neuron. It will output if the person survive or not."
      ]
    },
    {
      "cell_type": "code",
      "metadata": {
        "id": "cIoqL8LhHRK7",
        "colab_type": "code",
        "colab": {}
      },
      "source": [
        "import tensorflow as tf"
      ],
      "execution_count": 0,
      "outputs": []
    },
    {
      "cell_type": "code",
      "metadata": {
        "id": "e_cdhpagJSIs",
        "colab_type": "code",
        "colab": {}
      },
      "source": [
        "BATCH_SIZE = 32\n",
        "model = tf.keras.Sequential([\n",
        "    tf.keras.layers.Flatten(input_shape=(7,)),\n",
        "    tf.keras.layers.Dense(64, activation='relu'),\n",
        "    tf.keras.layers.Dense(512, activation='relu'),\n",
        "    tf.keras.layers.Dense(1, activation='sigmoid')\n",
        "])"
      ],
      "execution_count": 0,
      "outputs": []
    },
    {
      "cell_type": "code",
      "metadata": {
        "id": "xsaQj1EtPwaD",
        "colab_type": "code",
        "colab": {}
      },
      "source": [
        "model.compile(optimizer='adam',\n",
        "              loss='binary_crossentropy',\n",
        "              metrics=['accuracy'])"
      ],
      "execution_count": 0,
      "outputs": []
    },
    {
      "cell_type": "code",
      "metadata": {
        "id": "luqtd1JeP4hr",
        "colab_type": "code",
        "colab": {}
      },
      "source": [
        "labels = train['Survived'].values\n",
        "feature_names = ['Pclass', 'Age', 'Fare', 'Embarked', 'Sex', 'SibSp', 'Parch']\n",
        "features = train[feature_names].values"
      ],
      "execution_count": 0,
      "outputs": []
    },
    {
      "cell_type": "code",
      "metadata": {
        "id": "DnZhHru3QOF0",
        "colab_type": "code",
        "outputId": "0d030975-59b8-4ca8-fd2c-f8689725f305",
        "colab": {
          "base_uri": "https://localhost:8080/",
          "height": 1000
        }
      },
      "source": [
        "history = model.fit(features, labels, epochs=50, batch_size=BATCH_SIZE, validation_split=0.2, shuffle=True)"
      ],
      "execution_count": 17,
      "outputs": [
        {
          "output_type": "stream",
          "text": [
            "Train on 712 samples, validate on 179 samples\n",
            "Epoch 1/50\n",
            "712/712 [==============================] - 1s 2ms/sample - loss: 0.8457 - acc: 0.6334 - val_loss: 0.6614 - val_acc: 0.6704\n",
            "Epoch 2/50\n",
            "712/712 [==============================] - 0s 107us/sample - loss: 0.7127 - acc: 0.6559 - val_loss: 0.5557 - val_acc: 0.7486\n",
            "Epoch 3/50\n",
            "712/712 [==============================] - 0s 111us/sample - loss: 0.7384 - acc: 0.6545 - val_loss: 0.5357 - val_acc: 0.7598\n",
            "Epoch 4/50\n",
            "712/712 [==============================] - 0s 110us/sample - loss: 0.6137 - acc: 0.6896 - val_loss: 0.7760 - val_acc: 0.6480\n",
            "Epoch 5/50\n",
            "712/712 [==============================] - 0s 109us/sample - loss: 0.7319 - acc: 0.6475 - val_loss: 0.5390 - val_acc: 0.8156\n",
            "Epoch 6/50\n",
            "712/712 [==============================] - 0s 106us/sample - loss: 0.6050 - acc: 0.7121 - val_loss: 0.6213 - val_acc: 0.6816\n",
            "Epoch 7/50\n",
            "712/712 [==============================] - 0s 108us/sample - loss: 0.5488 - acc: 0.7556 - val_loss: 0.4581 - val_acc: 0.7877\n",
            "Epoch 8/50\n",
            "712/712 [==============================] - 0s 105us/sample - loss: 0.5590 - acc: 0.7289 - val_loss: 0.6206 - val_acc: 0.7430\n",
            "Epoch 9/50\n",
            "712/712 [==============================] - 0s 121us/sample - loss: 0.5574 - acc: 0.7472 - val_loss: 0.5450 - val_acc: 0.7542\n",
            "Epoch 10/50\n",
            "712/712 [==============================] - 0s 106us/sample - loss: 0.5274 - acc: 0.7711 - val_loss: 0.4450 - val_acc: 0.7989\n",
            "Epoch 11/50\n",
            "712/712 [==============================] - 0s 109us/sample - loss: 0.5107 - acc: 0.7556 - val_loss: 0.5066 - val_acc: 0.7989\n",
            "Epoch 12/50\n",
            "712/712 [==============================] - 0s 103us/sample - loss: 0.5953 - acc: 0.7430 - val_loss: 0.4378 - val_acc: 0.8324\n",
            "Epoch 13/50\n",
            "712/712 [==============================] - 0s 104us/sample - loss: 0.7040 - acc: 0.7135 - val_loss: 0.4066 - val_acc: 0.8212\n",
            "Epoch 14/50\n",
            "712/712 [==============================] - 0s 101us/sample - loss: 0.5511 - acc: 0.7640 - val_loss: 0.5427 - val_acc: 0.7765\n",
            "Epoch 15/50\n",
            "712/712 [==============================] - 0s 104us/sample - loss: 0.4892 - acc: 0.7781 - val_loss: 0.4646 - val_acc: 0.7709\n",
            "Epoch 16/50\n",
            "712/712 [==============================] - 0s 110us/sample - loss: 0.5911 - acc: 0.7486 - val_loss: 0.4086 - val_acc: 0.8380\n",
            "Epoch 17/50\n",
            "712/712 [==============================] - 0s 109us/sample - loss: 0.5710 - acc: 0.7444 - val_loss: 0.4146 - val_acc: 0.8045\n",
            "Epoch 18/50\n",
            "712/712 [==============================] - 0s 104us/sample - loss: 0.5975 - acc: 0.7570 - val_loss: 0.4157 - val_acc: 0.7709\n",
            "Epoch 19/50\n",
            "712/712 [==============================] - 0s 107us/sample - loss: 0.4777 - acc: 0.7837 - val_loss: 0.4270 - val_acc: 0.7933\n",
            "Epoch 20/50\n",
            "712/712 [==============================] - 0s 105us/sample - loss: 0.4805 - acc: 0.7921 - val_loss: 0.3891 - val_acc: 0.8268\n",
            "Epoch 21/50\n",
            "712/712 [==============================] - 0s 103us/sample - loss: 0.5042 - acc: 0.7865 - val_loss: 0.3776 - val_acc: 0.8101\n",
            "Epoch 22/50\n",
            "712/712 [==============================] - 0s 114us/sample - loss: 0.4554 - acc: 0.8034 - val_loss: 0.3832 - val_acc: 0.8156\n",
            "Epoch 23/50\n",
            "712/712 [==============================] - 0s 105us/sample - loss: 0.4565 - acc: 0.7963 - val_loss: 0.3820 - val_acc: 0.8268\n",
            "Epoch 24/50\n",
            "712/712 [==============================] - 0s 114us/sample - loss: 0.4589 - acc: 0.7837 - val_loss: 0.3805 - val_acc: 0.8268\n",
            "Epoch 25/50\n",
            "712/712 [==============================] - 0s 109us/sample - loss: 0.4782 - acc: 0.7978 - val_loss: 0.4512 - val_acc: 0.7765\n",
            "Epoch 26/50\n",
            "712/712 [==============================] - 0s 110us/sample - loss: 0.4788 - acc: 0.7795 - val_loss: 0.3880 - val_acc: 0.8045\n",
            "Epoch 27/50\n",
            "712/712 [==============================] - 0s 103us/sample - loss: 0.4579 - acc: 0.8006 - val_loss: 0.4108 - val_acc: 0.8212\n",
            "Epoch 28/50\n",
            "712/712 [==============================] - 0s 107us/sample - loss: 0.5346 - acc: 0.7711 - val_loss: 0.3666 - val_acc: 0.8324\n",
            "Epoch 29/50\n",
            "712/712 [==============================] - 0s 101us/sample - loss: 0.5020 - acc: 0.7865 - val_loss: 0.3800 - val_acc: 0.8212\n",
            "Epoch 30/50\n",
            "712/712 [==============================] - 0s 99us/sample - loss: 0.5119 - acc: 0.7865 - val_loss: 0.3747 - val_acc: 0.8212\n",
            "Epoch 31/50\n",
            "712/712 [==============================] - 0s 114us/sample - loss: 0.4595 - acc: 0.7921 - val_loss: 0.3840 - val_acc: 0.8101\n",
            "Epoch 32/50\n",
            "712/712 [==============================] - 0s 103us/sample - loss: 0.4429 - acc: 0.8006 - val_loss: 0.5023 - val_acc: 0.7709\n",
            "Epoch 33/50\n",
            "712/712 [==============================] - 0s 105us/sample - loss: 0.4937 - acc: 0.7767 - val_loss: 0.4595 - val_acc: 0.7765\n",
            "Epoch 34/50\n",
            "712/712 [==============================] - 0s 119us/sample - loss: 0.4430 - acc: 0.8020 - val_loss: 0.4279 - val_acc: 0.7989\n",
            "Epoch 35/50\n",
            "712/712 [==============================] - 0s 105us/sample - loss: 0.4558 - acc: 0.7935 - val_loss: 0.4170 - val_acc: 0.8268\n",
            "Epoch 36/50\n",
            "712/712 [==============================] - 0s 101us/sample - loss: 0.5104 - acc: 0.7669 - val_loss: 0.3723 - val_acc: 0.8101\n",
            "Epoch 37/50\n",
            "712/712 [==============================] - 0s 105us/sample - loss: 0.4873 - acc: 0.7851 - val_loss: 0.4880 - val_acc: 0.7933\n",
            "Epoch 38/50\n",
            "712/712 [==============================] - 0s 106us/sample - loss: 0.4725 - acc: 0.7851 - val_loss: 0.3667 - val_acc: 0.8436\n",
            "Epoch 39/50\n",
            "712/712 [==============================] - 0s 111us/sample - loss: 0.5002 - acc: 0.7753 - val_loss: 0.3694 - val_acc: 0.8324\n",
            "Epoch 40/50\n",
            "712/712 [==============================] - 0s 107us/sample - loss: 0.5389 - acc: 0.7949 - val_loss: 0.4131 - val_acc: 0.7933\n",
            "Epoch 41/50\n",
            "712/712 [==============================] - 0s 111us/sample - loss: 0.4579 - acc: 0.7865 - val_loss: 0.3709 - val_acc: 0.8268\n",
            "Epoch 42/50\n",
            "712/712 [==============================] - 0s 110us/sample - loss: 0.4481 - acc: 0.8048 - val_loss: 0.3792 - val_acc: 0.8045\n",
            "Epoch 43/50\n",
            "712/712 [==============================] - 0s 114us/sample - loss: 0.4304 - acc: 0.8006 - val_loss: 0.3951 - val_acc: 0.7989\n",
            "Epoch 44/50\n",
            "712/712 [==============================] - 0s 107us/sample - loss: 0.4498 - acc: 0.7907 - val_loss: 0.3872 - val_acc: 0.7989\n",
            "Epoch 45/50\n",
            "712/712 [==============================] - 0s 115us/sample - loss: 0.4414 - acc: 0.8006 - val_loss: 0.3700 - val_acc: 0.8156\n",
            "Epoch 46/50\n",
            "712/712 [==============================] - 0s 117us/sample - loss: 0.4458 - acc: 0.7949 - val_loss: 0.3728 - val_acc: 0.8045\n",
            "Epoch 47/50\n",
            "712/712 [==============================] - 0s 121us/sample - loss: 0.4488 - acc: 0.8104 - val_loss: 0.3781 - val_acc: 0.8156\n",
            "Epoch 48/50\n",
            "712/712 [==============================] - 0s 103us/sample - loss: 0.4794 - acc: 0.7851 - val_loss: 0.3702 - val_acc: 0.8212\n",
            "Epoch 49/50\n",
            "712/712 [==============================] - 0s 109us/sample - loss: 0.4517 - acc: 0.8048 - val_loss: 0.3647 - val_acc: 0.8212\n",
            "Epoch 50/50\n",
            "712/712 [==============================] - 0s 108us/sample - loss: 0.4485 - acc: 0.7978 - val_loss: 0.4264 - val_acc: 0.7765\n"
          ],
          "name": "stdout"
        }
      ]
    },
    {
      "cell_type": "code",
      "metadata": {
        "id": "AnqRgKoH4J0Z",
        "colab_type": "code",
        "outputId": "a275ee5a-0129-47d0-df65-439f5e5d5a09",
        "colab": {
          "base_uri": "https://localhost:8080/",
          "height": 226
        }
      },
      "source": [
        "fig = plt.figure(figsize=(18, 6))\n",
        "\n",
        "plt.subplot2grid((2, 3), (0, 0))\n",
        "plt.plot(history.history['acc'])\n",
        "plt.plot(history.history['val_acc'])\n",
        "plt.title('model accuracy')\n",
        "plt.ylabel('accuracy')\n",
        "plt.xlabel('epoch')\n",
        "plt.legend(['train', 'test'], loc='upper left')\n",
        "\n",
        "plt.subplot2grid((2, 3), (0, 1))\n",
        "plt.plot(history.history['loss'])\n",
        "plt.plot(history.history['val_loss'])\n",
        "plt.title('model loss')\n",
        "plt.ylabel('loss')\n",
        "plt.xlabel('epoch')\n",
        "plt.legend(['train', 'test'], loc='upper left')\n",
        "\n",
        "plt.show()"
      ],
      "execution_count": 18,
      "outputs": [
        {
          "output_type": "display_data",
          "data": {
            "image/png": "[encoded data removed]",
            "text/plain": [
              "<Figure size 1296x432 with 2 Axes>"
            ]
          },
          "metadata": {
            "tags": []
          }
        }
      ]
    },
    {
      "cell_type": "code",
      "metadata": {
        "id": "8qscr_9pRjfv",
        "colab_type": "code",
        "colab": {}
      },
      "source": [
        "test_data = pd.read_csv('train.csv')\n",
        "normalize_data(test_data)\n",
        "test_data = test_data[feature_names]\n",
        "predictions = model.predict(test_data[feature_names], batch_size=BATCH_SIZE)"
      ],
      "execution_count": 0,
      "outputs": []
    },
    {
      "cell_type": "markdown",
      "metadata": {
        "id": "wTx4tisZVZMJ",
        "colab_type": "text"
      },
      "source": [
        "## Visualize predicted data\n",
        "\n",
        "In this section we will visualize the predicted data."
      ]
    },
    {
      "cell_type": "code",
      "metadata": {
        "id": "hc-QMZeSVazQ",
        "colab_type": "code",
        "outputId": "b05db8c5-088b-4559-b2ca-0468065060e1",
        "colab": {
          "base_uri": "https://localhost:8080/",
          "height": 212
        }
      },
      "source": [
        "import numpy as np\n",
        "\n",
        "fig = plt.figure(figsize=(18, 6))\n",
        "\n",
        "predictions = np.around(predictions)\n",
        "pred_zeros = (predictions == 0).sum()\n",
        "pred_ones = (predictions == 1).sum()\n",
        "\n",
        "plt.subplot2grid((2, 3), (0, 1))\n",
        "plt.title('Predicted Survived')\n",
        "plt.xticks(np.arange(2), ('0', '1'))\n",
        "plt.bar([0, 1], [pred_zeros/len(predictions), pred_ones/len(predictions)], alpha=0.5)\n",
        "\n",
        "plt.show()"
      ],
      "execution_count": 20,
      "outputs": [
        {
          "output_type": "display_data",
          "data": {
            "image/png": "[encoded data removed]",
            "text/plain": [
              "<Figure size 1296x432 with 1 Axes>"
            ]
          },
          "metadata": {
            "tags": []
          }
        }
      ]
    },
    {
      "cell_type": "code",
      "metadata": {
        "id": "QczCNYlxWFAO",
        "colab_type": "code",
        "outputId": "92d94448-7cb3-4dc2-861b-38094a2c453d",
        "colab": {
          "base_uri": "https://localhost:8080/",
          "height": 51
        }
      },
      "source": [
        "print('Predicted Dead people', pred_zeros)\n",
        "print('Predicted Alive people', pred_ones)"
      ],
      "execution_count": 21,
      "outputs": [
        {
          "output_type": "stream",
          "text": [
            "Predicted Dead people 603\n",
            "Predicted Alive people 288\n"
          ],
          "name": "stdout"
        }
      ]
    },
    {
      "cell_type": "code",
      "metadata": {
        "id": "m3Olph-naZJd",
        "colab_type": "code",
        "colab": {}
      },
      "source": [
        ""
      ],
      "execution_count": 0,
      "outputs": []
    }
  ]
}