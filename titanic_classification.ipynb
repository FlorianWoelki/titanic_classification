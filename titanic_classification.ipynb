{
  "nbformat": 4,
  "nbformat_minor": 0,
  "metadata": {
    "colab": {
      "name": "titanic_classification.ipynb",
      "version": "0.3.2",
      "provenance": [],
      "collapsed_sections": [],
      "include_colab_link": true
    },
    "kernelspec": {
      "name": "python3",
      "display_name": "Python 3"
    },
    "accelerator": "GPU"
  },
  "cells": [
    {
      "cell_type": "markdown",
      "metadata": {
        "id": "view-in-github",
        "colab_type": "text"
      },
      "source": [
        "<a href=\"https://colab.research.google.com/github/FlorianWoelki/titanic_classification/blob/master/titanic_classification.ipynb\" target=\"_parent\"><img src=\"https://colab.research.google.com/assets/colab-badge.svg\" alt=\"Open In Colab\"/></a>"
      ]
    },
    {
      "cell_type": "markdown",
      "metadata": {
        "id": "oJCEuiT7-UFg",
        "colab_type": "text"
      },
      "source": [
        "## Download the dataset\n",
        "\n",
        "Click this [link](https://www.kaggle.com/c/titanic/overview) to go to the kaggle titanic dataset."
      ]
    },
    {
      "cell_type": "code",
      "metadata": {
        "id": "6rmIjyk2-fcQ",
        "colab_type": "code",
        "colab": {}
      },
      "source": [
        "from google.colab import files\n",
        "files.upload()"
      ],
      "execution_count": 0,
      "outputs": []
    },
    {
      "cell_type": "code",
      "metadata": {
        "id": "ywDbh_OA_Shf",
        "colab_type": "code",
        "colab": {}
      },
      "source": [
        "!mkdir -p ~/.kaggle\n",
        "!cp kaggle.json ~/.kaggle/\n",
        "!chmod 600 /root/.kaggle/kaggle.json"
      ],
      "execution_count": 0,
      "outputs": []
    },
    {
      "cell_type": "code",
      "metadata": {
        "id": "33eTHFEc_bjN",
        "colab_type": "code",
        "outputId": "1f3be8b0-ee41-4e84-a759-15c12e5e5026",
        "colab": {
          "base_uri": "https://localhost:8080/",
          "height": 102
        }
      },
      "source": [
        "!kaggle competitions download -c titanic\n",
        "!ls"
      ],
      "execution_count": 3,
      "outputs": [
        {
          "output_type": "stream",
          "text": [
            "train.csv: Skipping, found more recently modified local copy (use --force to force download)\n",
            "test.csv: Skipping, found more recently modified local copy (use --force to force download)\n",
            "gender_submission.csv: Skipping, found more recently modified local copy (use --force to force download)\n",
            " gender_submission.csv\t kaggle.json   test.csv\n",
            "'kaggle (1).json'\t sample_data   train.csv\n"
          ],
          "name": "stdout"
        }
      ]
    },
    {
      "cell_type": "markdown",
      "metadata": {
        "id": "iowDMIqjAEdB",
        "colab_type": "text"
      },
      "source": [
        "## Check the data\n",
        "\n",
        "> The following table explains the data.\n",
        "\n",
        "| Variable | Definition                                 | Key                                            |\n",
        "|----------|--------------------------------------------|------------------------------------------------|\n",
        "| survival | Survival                                   | 0 = No, 1 = Yes                                |\n",
        "| pclass   | Ticket Class                               | 1 = 1st, 2 = 2nd, 3 = 3rd                      |\n",
        "| sex      | Sex                                        |                                                |\n",
        "| Age      | Age in years                               |                                                |\n",
        "| sibsp    | # of siblings / spouses aboard the titanic |                                                |\n",
        "| parch    | # of parents / children aboard the titanic |                                                |\n",
        "| ticket   | Ticket number                              |                                                |\n",
        "| fare     | Passenger fare                             |                                                |\n",
        "| cabin    | Cabin number                               |                                                |\n",
        "| embarked | Port of embarkation                        | C = Cherbourg, Q = Queenstown, S = Southampton |"
      ]
    },
    {
      "cell_type": "code",
      "metadata": {
        "id": "iqtpSFi3AFn5",
        "colab_type": "code",
        "colab": {}
      },
      "source": [
        "import pandas as pd\n",
        "import matplotlib.pyplot as plt"
      ],
      "execution_count": 0,
      "outputs": []
    },
    {
      "cell_type": "code",
      "metadata": {
        "id": "hZ89KwnPAHEb",
        "colab_type": "code",
        "outputId": "a9bbd840-f12d-4b86-e44d-4ce379ada0be",
        "colab": {
          "base_uri": "https://localhost:8080/",
          "height": 204
        }
      },
      "source": [
        "df = pd.read_csv('train.csv')\n",
        "df.head()"
      ],
      "execution_count": 5,
      "outputs": [
        {
          "output_type": "execute_result",
          "data": {
            "text/html": [
              "<div>\n",
              "<style scoped>\n",
              "    .dataframe tbody tr th:only-of-type {\n",
              "        vertical-align: middle;\n",
              "    }\n",
              "\n",
              "    .dataframe tbody tr th {\n",
              "        vertical-align: top;\n",
              "    }\n",
              "\n",
              "    .dataframe thead th {\n",
              "        text-align: right;\n",
              "    }\n",
              "</style>\n",
              "<table border=\"1\" class=\"dataframe\">\n",
              "  <thead>\n",
              "    <tr style=\"text-align: right;\">\n",
              "      <th></th>\n",
              "      <th>PassengerId</th>\n",
              "      <th>Survived</th>\n",
              "      <th>Pclass</th>\n",
              "      <th>Name</th>\n",
              "      <th>Sex</th>\n",
              "      <th>Age</th>\n",
              "      <th>SibSp</th>\n",
              "      <th>Parch</th>\n",
              "      <th>Ticket</th>\n",
              "      <th>Fare</th>\n",
              "      <th>Cabin</th>\n",
              "      <th>Embarked</th>\n",
              "    </tr>\n",
              "  </thead>\n",
              "  <tbody>\n",
              "    <tr>\n",
              "      <th>0</th>\n",
              "      <td>1</td>\n",
              "      <td>0</td>\n",
              "      <td>3</td>\n",
              "      <td>Braund, Mr. Owen Harris</td>\n",
              "      <td>male</td>\n",
              "      <td>22.0</td>\n",
              "      <td>1</td>\n",
              "      <td>0</td>\n",
              "      <td>A/5 21171</td>\n",
              "      <td>7.2500</td>\n",
              "      <td>NaN</td>\n",
              "      <td>S</td>\n",
              "    </tr>\n",
              "    <tr>\n",
              "      <th>1</th>\n",
              "      <td>2</td>\n",
              "      <td>1</td>\n",
              "      <td>1</td>\n",
              "      <td>Cumings, Mrs. John Bradley (Florence Briggs Th...</td>\n",
              "      <td>female</td>\n",
              "      <td>38.0</td>\n",
              "      <td>1</td>\n",
              "      <td>0</td>\n",
              "      <td>PC 17599</td>\n",
              "      <td>71.2833</td>\n",
              "      <td>C85</td>\n",
              "      <td>C</td>\n",
              "    </tr>\n",
              "    <tr>\n",
              "      <th>2</th>\n",
              "      <td>3</td>\n",
              "      <td>1</td>\n",
              "      <td>3</td>\n",
              "      <td>Heikkinen, Miss. Laina</td>\n",
              "      <td>female</td>\n",
              "      <td>26.0</td>\n",
              "      <td>0</td>\n",
              "      <td>0</td>\n",
              "      <td>STON/O2. 3101282</td>\n",
              "      <td>7.9250</td>\n",
              "      <td>NaN</td>\n",
              "      <td>S</td>\n",
              "    </tr>\n",
              "    <tr>\n",
              "      <th>3</th>\n",
              "      <td>4</td>\n",
              "      <td>1</td>\n",
              "      <td>1</td>\n",
              "      <td>Futrelle, Mrs. Jacques Heath (Lily May Peel)</td>\n",
              "      <td>female</td>\n",
              "      <td>35.0</td>\n",
              "      <td>1</td>\n",
              "      <td>0</td>\n",
              "      <td>113803</td>\n",
              "      <td>53.1000</td>\n",
              "      <td>C123</td>\n",
              "      <td>S</td>\n",
              "    </tr>\n",
              "    <tr>\n",
              "      <th>4</th>\n",
              "      <td>5</td>\n",
              "      <td>0</td>\n",
              "      <td>3</td>\n",
              "      <td>Allen, Mr. William Henry</td>\n",
              "      <td>male</td>\n",
              "      <td>35.0</td>\n",
              "      <td>0</td>\n",
              "      <td>0</td>\n",
              "      <td>373450</td>\n",
              "      <td>8.0500</td>\n",
              "      <td>NaN</td>\n",
              "      <td>S</td>\n",
              "    </tr>\n",
              "  </tbody>\n",
              "</table>\n",
              "</div>"
            ],
            "text/plain": [
              "   PassengerId  Survived  Pclass  ...     Fare Cabin  Embarked\n",
              "0            1         0       3  ...   7.2500   NaN         S\n",
              "1            2         1       1  ...  71.2833   C85         C\n",
              "2            3         1       3  ...   7.9250   NaN         S\n",
              "3            4         1       1  ...  53.1000  C123         S\n",
              "4            5         0       3  ...   8.0500   NaN         S\n",
              "\n",
              "[5 rows x 12 columns]"
            ]
          },
          "metadata": {
            "tags": []
          },
          "execution_count": 5
        }
      ]
    },
    {
      "cell_type": "code",
      "metadata": {
        "id": "LWMfiiMVJ7wJ",
        "colab_type": "code",
        "colab": {
          "base_uri": "https://localhost:8080/",
          "height": 390
        },
        "outputId": "cf7bb35c-3d7a-4da7-d618-35513a925446"
      },
      "source": [
        "fig = plt.figure(figsize=(18, 6))\n",
        "\n",
        "plt.subplot2grid((2, 3), (0, 0))\n",
        "df.Survived.value_counts(normalize=True).plot(kind='bar', alpha=0.5)\n",
        "plt.title('Survived')\n",
        "\n",
        "plt.subplot2grid((2, 3), (0, 1))\n",
        "plt.scatter(df.Survived, df.Age, alpha=0.1)\n",
        "plt.title('Age wrt survived')\n",
        "\n",
        "plt.subplot2grid((2, 3), (0, 2))\n",
        "df.Pclass.value_counts(normalize=True).plot(kind='bar', alpha=0.5)\n",
        "plt.title('Pclass')\n",
        "\n",
        "plt.subplot2grid((2, 3), (1, 0), colspan=2)\n",
        "for x in [1, 2, 3]:\n",
        "  df.Age[df.Pclass == x].plot(kind='kde')\n",
        "plt.title('Class wrt Age')\n",
        "plt.legend(('1st', '2nd', '3rd'))\n",
        "\n",
        "plt.show()"
      ],
      "execution_count": 6,
      "outputs": [
        {
          "output_type": "display_data",
          "data": {
            "image/png": "[encoded data removed]",
            "text/plain": [
              "<Figure size 1296x432 with 4 Axes>"
            ]
          },
          "metadata": {
            "tags": []
          }
        }
      ]
    },
    {
      "cell_type": "code",
      "metadata": {
        "id": "e8ORxtZOMFwR",
        "colab_type": "code",
        "colab": {
          "base_uri": "https://localhost:8080/",
          "height": 184
        },
        "outputId": "830e55a6-e84c-4594-b847-23ca5474f0e7"
      },
      "source": [
        "fig = plt.figure(figsize=(18, 6))\n",
        "\n",
        "female_color = '#FA0000'\n",
        "\n",
        "plt.subplot2grid((3, 4), (0, 0))\n",
        "df.Survived[df.Sex == 'male'].value_counts(normalize=True).plot(kind='bar', alpha=0.5)\n",
        "plt.title('Men Survived')\n",
        "\n",
        "plt.subplot2grid((3, 4), (0, 1))\n",
        "df.Survived[df.Sex == 'female'].value_counts(normalize=True).plot(kind='bar', alpha=0.5, color=female_color)\n",
        "plt.title('Woman Survived')\n",
        "\n",
        "plt.subplot2grid((3, 4), (0, 2))\n",
        "df.Sex[df.Survived == 1].value_counts(normalize=True).plot(kind='bar', alpha=0.5, color=[female_color, 'b'])\n",
        "plt.title('Sex of Survived')\n",
        "\n",
        "plt.show()"
      ],
      "execution_count": 7,
      "outputs": [
        {
          "output_type": "display_data",
          "data": {
            "image/png": "[encoded data removed]",
            "text/plain": [
              "<Figure size 1296x432 with 3 Axes>"
            ]
          },
          "metadata": {
            "tags": []
          }
        }
      ]
    },
    {
      "cell_type": "markdown",
      "metadata": {
        "id": "JQryVmPPN47G",
        "colab_type": "text"
      },
      "source": [
        "## Normalize the data"
      ]
    },
    {
      "cell_type": "code",
      "metadata": {
        "id": "sj0MgPJtN68R",
        "colab_type": "code",
        "colab": {}
      },
      "source": [
        "def normalize_data(data):\n",
        "  data['Fare'] = data['Fare'].fillna(data['Fare'].dropna().median())\n",
        "  data['Age'] = data['Age'].fillna(data['Age'].dropna().median())\n",
        "  \n",
        "  data.loc[data['Sex'] == 'male', 'Sex'] = 0\n",
        "  data.loc[data['Sex'] == 'female', 'Sex'] = 1\n",
        "  \n",
        "  data['Embarked'] = data['Embarked'].fillna('S')\n",
        "  data.loc[data['Embarked'] == 'S', 'Embarked'] = 0\n",
        "  data.loc[data['Embarked'] == 'C', 'Embarked'] = 1\n",
        "  data.loc[data['Embarked'] == 'Q', 'Embarked'] = 2"
      ],
      "execution_count": 0,
      "outputs": []
    },
    {
      "cell_type": "code",
      "metadata": {
        "id": "wMUdTcSvOlSY",
        "colab_type": "code",
        "colab": {}
      },
      "source": [
        "train = df\n",
        "normalize_data(train)"
      ],
      "execution_count": 0,
      "outputs": []
    },
    {
      "cell_type": "markdown",
      "metadata": {
        "id": "iORHNEcMHOkE",
        "colab_type": "text"
      },
      "source": [
        "## Building and training the model"
      ]
    },
    {
      "cell_type": "code",
      "metadata": {
        "id": "cIoqL8LhHRK7",
        "colab_type": "code",
        "colab": {}
      },
      "source": [
        "import tensorflow as tf"
      ],
      "execution_count": 0,
      "outputs": []
    },
    {
      "cell_type": "code",
      "metadata": {
        "id": "e_cdhpagJSIs",
        "colab_type": "code",
        "colab": {}
      },
      "source": [
        "BATCH_SIZE = 32\n",
        "model = tf.keras.Sequential([\n",
        "    tf.keras.layers.Flatten(input_shape=(7,)),\n",
        "    tf.keras.layers.Dense(64, activation='relu'),\n",
        "    tf.keras.layers.Dense(512, activation='relu'),\n",
        "    tf.keras.layers.Dense(1, activation='sigmoid')\n",
        "])"
      ],
      "execution_count": 0,
      "outputs": []
    },
    {
      "cell_type": "code",
      "metadata": {
        "id": "xsaQj1EtPwaD",
        "colab_type": "code",
        "colab": {}
      },
      "source": [
        "model.compile(optimizer='adam',\n",
        "              loss='binary_crossentropy',\n",
        "              metrics=['accuracy'])"
      ],
      "execution_count": 0,
      "outputs": []
    },
    {
      "cell_type": "code",
      "metadata": {
        "id": "luqtd1JeP4hr",
        "colab_type": "code",
        "colab": {}
      },
      "source": [
        "labels = train['Survived'].values\n",
        "feature_names = ['Pclass', 'Age', 'Fare', 'Embarked', 'Sex', 'SibSp', 'Parch']\n",
        "features = train[feature_names].values"
      ],
      "execution_count": 0,
      "outputs": []
    },
    {
      "cell_type": "code",
      "metadata": {
        "id": "DnZhHru3QOF0",
        "colab_type": "code",
        "colab": {
          "base_uri": "https://localhost:8080/",
          "height": 1734
        },
        "outputId": "1b2ee4c1-f93c-4531-d8ae-6c2016fb8312"
      },
      "source": [
        "history = model.fit(features, labels, epochs=50, batch_size=BATCH_SIZE, validation_split=0.2, shuffle=True)"
      ],
      "execution_count": 134,
      "outputs": [
        {
          "output_type": "stream",
          "text": [
            "Train on 712 samples, validate on 179 samples\n",
            "Epoch 1/50\n",
            "712/712 [==============================] - 0s 486us/sample - loss: 0.8794 - acc: 0.6124 - val_loss: 0.6309 - val_acc: 0.6816\n",
            "Epoch 2/50\n",
            "712/712 [==============================] - 0s 131us/sample - loss: 0.7276 - acc: 0.6587 - val_loss: 0.5642 - val_acc: 0.7318\n",
            "Epoch 3/50\n",
            "712/712 [==============================] - 0s 137us/sample - loss: 0.6690 - acc: 0.6489 - val_loss: 0.5377 - val_acc: 0.7263\n",
            "Epoch 4/50\n",
            "712/712 [==============================] - 0s 132us/sample - loss: 0.6560 - acc: 0.6671 - val_loss: 0.5163 - val_acc: 0.7486\n",
            "Epoch 5/50\n",
            "712/712 [==============================] - 0s 130us/sample - loss: 0.6415 - acc: 0.6742 - val_loss: 0.5472 - val_acc: 0.6983\n",
            "Epoch 6/50\n",
            "712/712 [==============================] - 0s 129us/sample - loss: 0.6144 - acc: 0.6770 - val_loss: 0.4951 - val_acc: 0.7486\n",
            "Epoch 7/50\n",
            "712/712 [==============================] - 0s 139us/sample - loss: 0.6165 - acc: 0.7079 - val_loss: 0.5516 - val_acc: 0.6872\n",
            "Epoch 8/50\n",
            "712/712 [==============================] - 0s 131us/sample - loss: 0.5935 - acc: 0.7121 - val_loss: 0.4942 - val_acc: 0.7318\n",
            "Epoch 9/50\n",
            "712/712 [==============================] - 0s 118us/sample - loss: 0.5718 - acc: 0.7079 - val_loss: 0.4719 - val_acc: 0.7877\n",
            "Epoch 10/50\n",
            "712/712 [==============================] - 0s 124us/sample - loss: 0.5631 - acc: 0.7331 - val_loss: 0.4477 - val_acc: 0.7877\n",
            "Epoch 11/50\n",
            "712/712 [==============================] - 0s 122us/sample - loss: 0.5304 - acc: 0.7570 - val_loss: 0.4256 - val_acc: 0.8156\n",
            "Epoch 12/50\n",
            "712/712 [==============================] - 0s 123us/sample - loss: 0.5546 - acc: 0.7317 - val_loss: 0.6673 - val_acc: 0.6704\n",
            "Epoch 13/50\n",
            "712/712 [==============================] - 0s 123us/sample - loss: 0.6111 - acc: 0.7303 - val_loss: 0.4202 - val_acc: 0.8156\n",
            "Epoch 14/50\n",
            "712/712 [==============================] - 0s 135us/sample - loss: 0.5724 - acc: 0.7528 - val_loss: 0.4536 - val_acc: 0.8156\n",
            "Epoch 15/50\n",
            "712/712 [==============================] - 0s 143us/sample - loss: 0.4988 - acc: 0.7669 - val_loss: 0.4179 - val_acc: 0.8324\n",
            "Epoch 16/50\n",
            "712/712 [==============================] - 0s 131us/sample - loss: 0.5536 - acc: 0.7584 - val_loss: 0.4634 - val_acc: 0.8212\n",
            "Epoch 17/50\n",
            "712/712 [==============================] - 0s 132us/sample - loss: 0.5391 - acc: 0.7542 - val_loss: 0.3766 - val_acc: 0.8436\n",
            "Epoch 18/50\n",
            "712/712 [==============================] - 0s 156us/sample - loss: 0.4865 - acc: 0.7921 - val_loss: 0.3812 - val_acc: 0.8212\n",
            "Epoch 19/50\n",
            "712/712 [==============================] - 0s 135us/sample - loss: 0.4991 - acc: 0.7753 - val_loss: 0.4028 - val_acc: 0.8324\n",
            "Epoch 20/50\n",
            "712/712 [==============================] - 0s 135us/sample - loss: 0.4773 - acc: 0.7795 - val_loss: 0.3645 - val_acc: 0.8436\n",
            "Epoch 21/50\n",
            "712/712 [==============================] - 0s 138us/sample - loss: 0.4852 - acc: 0.7739 - val_loss: 0.4780 - val_acc: 0.8156\n",
            "Epoch 22/50\n",
            "712/712 [==============================] - 0s 138us/sample - loss: 0.6762 - acc: 0.7107 - val_loss: 0.5409 - val_acc: 0.7709\n",
            "Epoch 23/50\n",
            "712/712 [==============================] - 0s 136us/sample - loss: 0.5268 - acc: 0.7893 - val_loss: 0.3690 - val_acc: 0.8324\n",
            "Epoch 24/50\n",
            "712/712 [==============================] - 0s 135us/sample - loss: 0.4607 - acc: 0.7893 - val_loss: 0.3955 - val_acc: 0.8380\n",
            "Epoch 25/50\n",
            "712/712 [==============================] - 0s 131us/sample - loss: 0.4795 - acc: 0.7865 - val_loss: 0.4629 - val_acc: 0.7989\n",
            "Epoch 26/50\n",
            "712/712 [==============================] - 0s 140us/sample - loss: 0.4689 - acc: 0.7893 - val_loss: 0.3614 - val_acc: 0.8380\n",
            "Epoch 27/50\n",
            "712/712 [==============================] - 0s 135us/sample - loss: 0.5091 - acc: 0.8006 - val_loss: 0.3510 - val_acc: 0.8492\n",
            "Epoch 28/50\n",
            "712/712 [==============================] - 0s 153us/sample - loss: 0.4979 - acc: 0.7767 - val_loss: 0.4107 - val_acc: 0.8268\n",
            "Epoch 29/50\n",
            "712/712 [==============================] - 0s 136us/sample - loss: 0.4657 - acc: 0.8034 - val_loss: 0.3633 - val_acc: 0.8324\n",
            "Epoch 30/50\n",
            "712/712 [==============================] - 0s 136us/sample - loss: 0.4873 - acc: 0.7865 - val_loss: 0.3483 - val_acc: 0.8492\n",
            "Epoch 31/50\n",
            "712/712 [==============================] - 0s 131us/sample - loss: 0.5015 - acc: 0.7739 - val_loss: 0.4167 - val_acc: 0.8380\n",
            "Epoch 32/50\n",
            "712/712 [==============================] - 0s 142us/sample - loss: 0.5322 - acc: 0.7697 - val_loss: 0.3489 - val_acc: 0.8380\n",
            "Epoch 33/50\n",
            "712/712 [==============================] - 0s 137us/sample - loss: 0.5173 - acc: 0.7879 - val_loss: 0.3724 - val_acc: 0.8492\n",
            "Epoch 34/50\n",
            "712/712 [==============================] - 0s 132us/sample - loss: 0.5121 - acc: 0.7683 - val_loss: 0.4030 - val_acc: 0.8380\n",
            "Epoch 35/50\n",
            "712/712 [==============================] - 0s 140us/sample - loss: 0.4693 - acc: 0.7795 - val_loss: 0.4483 - val_acc: 0.8101\n",
            "Epoch 36/50\n",
            "712/712 [==============================] - 0s 134us/sample - loss: 0.4681 - acc: 0.7963 - val_loss: 0.3884 - val_acc: 0.8380\n",
            "Epoch 37/50\n",
            "712/712 [==============================] - 0s 154us/sample - loss: 0.4824 - acc: 0.7879 - val_loss: 0.3676 - val_acc: 0.8603\n",
            "Epoch 38/50\n",
            "712/712 [==============================] - 0s 145us/sample - loss: 0.4930 - acc: 0.7851 - val_loss: 0.3591 - val_acc: 0.8324\n",
            "Epoch 39/50\n",
            "712/712 [==============================] - 0s 132us/sample - loss: 0.4486 - acc: 0.7978 - val_loss: 0.3613 - val_acc: 0.8380\n",
            "Epoch 40/50\n",
            "712/712 [==============================] - 0s 134us/sample - loss: 0.4595 - acc: 0.8062 - val_loss: 0.4135 - val_acc: 0.8212\n",
            "Epoch 41/50\n",
            "712/712 [==============================] - 0s 138us/sample - loss: 0.4478 - acc: 0.8076 - val_loss: 0.3718 - val_acc: 0.8492\n",
            "Epoch 42/50\n",
            "712/712 [==============================] - 0s 137us/sample - loss: 0.4589 - acc: 0.7865 - val_loss: 0.3488 - val_acc: 0.8436\n",
            "Epoch 43/50\n",
            "712/712 [==============================] - 0s 134us/sample - loss: 0.4488 - acc: 0.8090 - val_loss: 0.3777 - val_acc: 0.8380\n",
            "Epoch 44/50\n",
            "712/712 [==============================] - 0s 134us/sample - loss: 0.4615 - acc: 0.7767 - val_loss: 0.3644 - val_acc: 0.8324\n",
            "Epoch 45/50\n",
            "712/712 [==============================] - 0s 136us/sample - loss: 0.4637 - acc: 0.7851 - val_loss: 0.3390 - val_acc: 0.8380\n",
            "Epoch 46/50\n",
            "712/712 [==============================] - 0s 136us/sample - loss: 0.4950 - acc: 0.7809 - val_loss: 0.5086 - val_acc: 0.7989\n",
            "Epoch 47/50\n",
            "712/712 [==============================] - 0s 159us/sample - loss: 0.5745 - acc: 0.7360 - val_loss: 0.3666 - val_acc: 0.8268\n",
            "Epoch 48/50\n",
            "712/712 [==============================] - 0s 132us/sample - loss: 0.4664 - acc: 0.7865 - val_loss: 0.4081 - val_acc: 0.8268\n",
            "Epoch 49/50\n",
            "712/712 [==============================] - 0s 135us/sample - loss: 0.4515 - acc: 0.7978 - val_loss: 0.3724 - val_acc: 0.8268\n",
            "Epoch 50/50\n",
            "712/712 [==============================] - 0s 135us/sample - loss: 0.4586 - acc: 0.7935 - val_loss: 0.4415 - val_acc: 0.8324\n"
          ],
          "name": "stdout"
        }
      ]
    },
    {
      "cell_type": "code",
      "metadata": {
        "id": "AnqRgKoH4J0Z",
        "colab_type": "code",
        "colab": {
          "base_uri": "https://localhost:8080/",
          "height": 226
        },
        "outputId": "68e6aadf-cbd2-4c7c-8635-1515c7cd360f"
      },
      "source": [
        "fig = plt.figure(figsize=(18, 6))\n",
        "\n",
        "plt.subplot2grid((2, 3), (0, 0))\n",
        "plt.plot(history.history['acc'])\n",
        "plt.plot(history.history['val_acc'])\n",
        "plt.title('model accuracy')\n",
        "plt.ylabel('accuracy')\n",
        "plt.xlabel('epoch')\n",
        "plt.legend(['train', 'test'], loc='upper left')\n",
        "\n",
        "plt.subplot2grid((2, 3), (0, 1))\n",
        "plt.plot(history.history['loss'])\n",
        "plt.plot(history.history['val_loss'])\n",
        "plt.title('model loss')\n",
        "plt.ylabel('loss')\n",
        "plt.xlabel('epoch')\n",
        "plt.legend(['train', 'test'], loc='upper left')\n",
        "\n",
        "plt.show()"
      ],
      "execution_count": 135,
      "outputs": [
        {
          "output_type": "display_data",
          "data": {
            "image/png": "[encoded data removed]",
            "text/plain": [
              "<Figure size 1296x432 with 2 Axes>"
            ]
          },
          "metadata": {
            "tags": []
          }
        }
      ]
    },
    {
      "cell_type": "code",
      "metadata": {
        "id": "8qscr_9pRjfv",
        "colab_type": "code",
        "colab": {}
      },
      "source": [
        "test_data = pd.read_csv('train.csv')\n",
        "normalize_data(test_data)\n",
        "test_data = test_data[feature_names]\n",
        "predictions = model.predict(test_data[feature_names], batch_size=BATCH_SIZE)"
      ],
      "execution_count": 0,
      "outputs": []
    },
    {
      "cell_type": "markdown",
      "metadata": {
        "id": "wTx4tisZVZMJ",
        "colab_type": "text"
      },
      "source": [
        "## Visualize predicted data"
      ]
    },
    {
      "cell_type": "code",
      "metadata": {
        "id": "hc-QMZeSVazQ",
        "colab_type": "code",
        "colab": {
          "base_uri": "https://localhost:8080/",
          "height": 212
        },
        "outputId": "73a593ed-917c-4050-f5f8-0b92ea50ba89"
      },
      "source": [
        "import numpy as np\n",
        "\n",
        "fig = plt.figure(figsize=(18, 6))\n",
        "\n",
        "predictions = np.around(predictions)\n",
        "pred_zeros = (predictions == 0).sum()\n",
        "pred_ones = (predictions == 1).sum()\n",
        "\n",
        "plt.subplot2grid((2, 3), (0, 1))\n",
        "plt.title('Predicted Survived')\n",
        "plt.xticks(np.arange(2), ('0', '1'))\n",
        "plt.bar([0, 1], [pred_zeros/len(predictions), pred_ones/len(predictions)], alpha=0.5)\n",
        "\n",
        "plt.show()"
      ],
      "execution_count": 107,
      "outputs": [
        {
          "output_type": "display_data",
          "data": {
            "image/png": "[encoded data removed]",
            "text/plain": [
              "<Figure size 1296x432 with 1 Axes>"
            ]
          },
          "metadata": {
            "tags": []
          }
        }
      ]
    },
    {
      "cell_type": "code",
      "metadata": {
        "id": "QczCNYlxWFAO",
        "colab_type": "code",
        "colab": {
          "base_uri": "https://localhost:8080/",
          "height": 51
        },
        "outputId": "914a5851-5ebc-4ab7-96b0-7a6c365152c0"
      },
      "source": [
        "print('Predicted Dead people', pred_zeros)\n",
        "print('Predicted Alive people', pred_ones)"
      ],
      "execution_count": 96,
      "outputs": [
        {
          "output_type": "stream",
          "text": [
            "Predicted Dead people 287\n",
            "Predicted Alive people 131\n"
          ],
          "name": "stdout"
        }
      ]
    },
    {
      "cell_type": "code",
      "metadata": {
        "id": "m3Olph-naZJd",
        "colab_type": "code",
        "colab": {}
      },
      "source": [
        ""
      ],
      "execution_count": 0,
      "outputs": []
    }
  ]
}